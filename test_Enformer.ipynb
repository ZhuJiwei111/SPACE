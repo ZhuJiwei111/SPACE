{
 "cells": [
  {
   "cell_type": "code",
   "execution_count": null,
   "metadata": {},
   "outputs": [
    {
     "name": "stdout",
     "output_type": "stream",
     "text": [
      "load preprocess data\n",
      "load preprocess data\n"
     ]
    }
   ],
   "source": [
    "import torch\n",
    "import torch.nn.functional as F\n",
    "import os\n",
    "from tqdm import tqdm\n",
    "import numpy as np\n",
    "import seaborn as sns\n",
    "import kipoiseq\n",
    "import matplotlib.pyplot as plt\n",
    "import pandas as pd\n",
    "\n",
    "\n",
    "from dataloaders.h5dataset import GEPBedDataset, MultiSpeciesDataset\n",
    "from model.modeling_enformer import Enformer, EnformerConfig, from_pretrained\n",
    "\n",
    "device = torch.device(\"cuda:0\")\n",
    "\n",
    "human_test_data_path: str = \"/home/jiwei_zhu/disk/Enformer/Data/human_test.h5\"\n",
    "human_test_bed_path: str = \"/home/jiwei_zhu/disk/Enformer/Data/human_test.bed\"\n",
    "human_genome_path: str = \"/home/jiwei_zhu/disk/Enformer/Data/hg38.ml.fa\"\n",
    "\n",
    "mouse_test_data_path: str = \"/home/jiwei_zhu/disk/Enformer/Data/mouse_test.h5\"\n",
    "mouse_test_bed_path: str = \"/home/jiwei_zhu/disk/Enformer/Data/mouse_test.bed\"\n",
    "mouse_genome_path: str = \"/home/jiwei_zhu/disk/Enformer/Data/mm10.fa\"\n",
    "\n",
    "df_human = pd.read_csv(\n",
    "    \"/home/jiwei_zhu/disk/Enformer/enformer_MoE/targets_human_sorted.txt\", sep=\"\\t\"\n",
    ")\n",
    "df_mouse = pd.read_csv(\n",
    "    \"/home/jiwei_zhu/disk/Enformer/enformer_MoE/targets_mouse_sorted.txt\", sep=\"\\t\"\n",
    ")\n",
    "\n",
    "index_human = list(df_human[\"index\"])\n",
    "track_types_human = {\n",
    "    \"DNASE/ATAC\": (0, 684),\n",
    "    \"TF ChIP-seq\": (684, 2573),\n",
    "    \"Histone ChIP-seq\": (2573, 4675),\n",
    "    \"CAGE\": (4675, 5313),\n",
    "}\n",
    "\n",
    "index_mouse = list(df_mouse[\"index\"])\n",
    "track_types_mouse = {\n",
    "    \"DNASE/ATAC\": (0, 228),\n",
    "    \"TF ChIP-seq\": (228, 519),\n",
    "    \"Histone ChIP-seq\": (519, 1286),\n",
    "    \"CAGE\": (1286, 1643),\n",
    "}\n",
    "\n",
    "\n",
    "human_genome_dict, mouse_genome_dict = {}, {}\n",
    "test_dataset = MultiSpeciesDataset(\n",
    "    file_paths=[human_test_data_path, mouse_test_data_path],\n",
    "    bed_paths=[human_test_bed_path, mouse_test_bed_path],\n",
    "    seqlen=196608,\n",
    "    genome_dicts=[human_genome_dict, mouse_genome_dict],\n",
    "    shift_aug=False,\n",
    "    rc_aug=False,\n",
    ")"
   ]
  },
  {
   "cell_type": "code",
   "execution_count": 3,
   "metadata": {},
   "outputs": [],
   "source": [
    "model_path = \"/home/jiwei_zhu/disk/Enformer/enformer_ckpt\"\n",
    "model = from_pretrained(model_path, use_tf_gamma=False)\n",
    "model.to(device)\n",
    "\n",
    "\n",
    "def pearson_corr_coef(x, y, dim=1, reduce_dims=(-1,)):\n",
    "    x_centered = x - x.mean(dim=dim, keepdim=True)\n",
    "    y_centered = y - y.mean(dim=dim, keepdim=True)\n",
    "    return F.cosine_similarity(x_centered, y_centered, dim=dim).mean(dim=reduce_dims)"
   ]
  },
  {
   "cell_type": "code",
   "execution_count": null,
   "metadata": {},
   "outputs": [
    {
     "name": "stderr",
     "output_type": "stream",
     "text": [
      "100%|██████████| 2017/2017 [53:09<00:00,  1.58s/it]\n"
     ]
    },
    {
     "name": "stdout",
     "output_type": "stream",
     "text": [
      "torch.Size([1937, 896, 5313]) torch.Size([2017, 896, 1643])\n",
      "torch.Size([1937, 896, 5313]) torch.Size([2017, 896, 1643])\n",
      "human: 0.6163953073134297\n",
      "mouse: 0.6912565573820928\n"
     ]
    }
   ],
   "source": [
    "pre_humans, pre_mouses = [], []\n",
    "targets_human, targets_mouse = [], []\n",
    "p_human_total, p_mouse_total = 0.0, 0.0\n",
    "\n",
    "len_human, len_mouse = len(test_dataset.human_dataset), len(test_dataset.mouse_dataset)\n",
    "model.eval()\n",
    "for idx in tqdm(range(len(test_dataset))):\n",
    "    data = test_dataset[idx]\n",
    "    human_x = torch.tensor(data[\"human_x\"], dtype=torch.float32).to(device)\n",
    "    mouse_x = torch.tensor(data[\"mouse_x\"], dtype=torch.float32).to(device)\n",
    "    human_labels = torch.tensor(data[\"human_labels\"][:, index_human], dtype=torch.float32).to(device)\n",
    "    mouse_labels = torch.tensor(data[\"mouse_labels\"][:, index_mouse], dtype=torch.float32).to(device)\n",
    "\n",
    "    with torch.no_grad():\n",
    "        if idx < len_human:\n",
    "            pre_human = model(human_x, head=\"human\")[:, index_human]\n",
    "            pre_humans.append(pre_human.cpu())\n",
    "            targets_human.append(human_labels.cpu())\n",
    "            p_human_total += pearson_corr_coef(pre_human, human_labels).cpu().item()\n",
    "        if idx < len_mouse:\n",
    "            pre_mouse = model(mouse_x, head=\"mouse\")[:, index_mouse]\n",
    "            pre_mouses.append(pre_mouse.cpu())\n",
    "            targets_mouse.append(mouse_labels.cpu())\n",
    "            p_mouse_total += pearson_corr_coef(pre_mouse, mouse_labels).cpu().item()\n",
    "\n",
    "pre_humans = torch.stack(pre_humans)\n",
    "pre_mouses = torch.stack(pre_mouses)\n",
    "print(pre_humans.shape, pre_mouses.shape)\n",
    "torch.save(pre_humans, \"./temp/pre_human_baseline.pt\")\n",
    "torch.save(pre_mouses, \"./temp/pre_mouse_baseline.pt\")\n",
    "\n",
    "targets_human = torch.stack(targets_human)\n",
    "targets_mouse = torch.stack(targets_mouse)\n",
    "print(targets_human.shape, targets_mouse.shape)\n",
    "torch.save(targets_human, \"./temp/target_human_baseline.pt\")\n",
    "torch.save(targets_mouse, \"./temp/target_mouse_baseline.pt\")\n",
    "\n",
    "\n",
    "p_human_total /= len_human\n",
    "p_mouse_total /= len_mouse\n",
    "print(f\"human: {p_human_total}\")\n",
    "print(f\"mouse: {p_mouse_total}\")"
   ]
  },
  {
   "cell_type": "code",
   "execution_count": null,
   "metadata": {},
   "outputs": [
    {
     "name": "stdout",
     "output_type": "stream",
     "text": [
      "torch.Size([1937, 896, 5313])\n",
      "torch.Size([2017, 896, 1643])\n",
      "torch.Size([1937, 896, 5313])\n",
      "torch.Size([2017, 896, 1643])\n"
     ]
    }
   ],
   "source": [
    "import torch\n",
    "\n",
    "pre_humans = torch.load(\"./temp/pres_human_baseline.pt\")\n",
    "pre_mouses = torch.load(\"./temp/pres_mouse_baseline.pt\")\n",
    "targets_human = torch.load(\"./temp/target_human_baseline.pt\")\n",
    "targets_mouse = torch.load(\"./temp/target_mouse_baseline.pt\")\n",
    "print(pre_humans.shape)\n",
    "print(pre_mouses.shape)\n",
    "print(targets_human.shape)\n",
    "print(targets_mouse.shape)"
   ]
  },
  {
   "cell_type": "code",
   "execution_count": 12,
   "metadata": {},
   "outputs": [],
   "source": [
    "def pearsonr(x, y):\n",
    "    # 计算均值\n",
    "    x_mean = x.mean(dim=0, keepdim=True)\n",
    "    y_mean = y.mean(dim=0, keepdim=True)\n",
    "\n",
    "    # 中心化\n",
    "    x_centered = x - x_mean\n",
    "    y_centered = y - y_mean\n",
    "\n",
    "    # 计算协方差\n",
    "    covariance = (x_centered * y_centered).sum(dim=0)\n",
    "\n",
    "    # 计算标准差\n",
    "    x_std = torch.sqrt((x_centered**2).sum(dim=0))\n",
    "    y_std = torch.sqrt((y_centered**2).sum(dim=0))\n",
    "\n",
    "    # 计算 Pearson 相关性\n",
    "    corr = covariance / (x_std * y_std)\n",
    "\n",
    "    return corr\n",
    "\n",
    "pre_human_flatten = pre_humans[:1937].view(-1, 5313)\n",
    "targets_human_flatten = targets_human[:1937].view(-1, 5313)\n",
    "tracks_pre_human = {key: pre_human_flatten[:, start:end] for key, (start, end) in track_types_human.items()}\n",
    "tracks_target_human = {key: targets_human_flatten[:, start:end] for key, (start, end) in track_types_human.items()}\n",
    "\n",
    "pre_mouse_flatten = pre_mouses.view(-1, 1643)\n",
    "targets_mouse_flatten = targets_mouse.view(-1, 1643)\n",
    "tracks_pre_mouse = {key: pre_mouse_flatten[:, start:end] for key, (start, end) in track_types_mouse.items()}\n",
    "tracks_target_mouse = {key: targets_mouse_flatten[:, start:end] for key, (start, end) in track_types_mouse.items()}\n",
    "\n",
    "corr_human = {}\n",
    "for track in track_types_human.keys():\n",
    "    p, l = tracks_pre_human[track], tracks_target_human[track]\n",
    "    if track == \"CAGE\":\n",
    "        p, l = torch.log(p + 1), torch.log(l + 1)\n",
    "    corr_human[track] = pearsonr(p, l)\n",
    "corr_mouse = {}  \n",
    "for track in track_types_mouse.keys():\n",
    "    p, l = tracks_pre_mouse[track], tracks_target_mouse[track]\n",
    "    if track == \"CAGE\":\n",
    "        p, l = torch.log(p + 1), torch.log(l + 1)\n",
    "    corr_mouse[track] = pearsonr(p, l)"
   ]
  },
  {
   "cell_type": "code",
   "execution_count": null,
   "metadata": {},
   "outputs": [],
   "source": [
    "import pickle\n",
    "with open('./temp/corr_human_baseline.pkl', 'wb') as f:\n",
    "    pickle.dump(corr_human, f)\n",
    "\n",
    "with open('./temp/corr_mouse_baseline.pkl', 'wb') as f:\n",
    "    pickle.dump(corr_mouse, f)"
   ]
  },
  {
   "cell_type": "code",
   "execution_count": 10,
   "metadata": {},
   "outputs": [
    {
     "name": "stdout",
     "output_type": "stream",
     "text": [
      "Human:\n",
      "DNASE: torch.Size([674])\n",
      "ATAC: torch.Size([10])\n",
      "TF ChIP-seq: torch.Size([1889])\n",
      "Histone ChIP-seq: torch.Size([2102])\n",
      "CAGE: torch.Size([638])\n",
      "Mouse:\n",
      "DNASE: torch.Size([101])\n",
      "ATAC: torch.Size([127])\n",
      "TF ChIP-seq: torch.Size([291])\n",
      "Histone ChIP-seq: torch.Size([767])\n",
      "CAGE: torch.Size([357])\n"
     ]
    }
   ],
   "source": [
    "# corr_human[\"DNASE/ATAC\"] = torch.cat((corr_human[\"DNASE\"], corr_human[\"ATAC\"]), dim=0)\n",
    "print(\"Human:\")\n",
    "for key, value in corr_human.items():\n",
    "    print(f\"{key}: {value.shape}\")\n",
    "\n",
    "# corr_mouse[\"DNASE/ATAC\"] = torch.cat((corr_mouse[\"DNASE\"], corr_mouse[\"ATAC\"]), dim=0)\n",
    "print(\"Mouse:\")\n",
    "for key, value in corr_mouse.items():\n",
    "    print(f\"{key}: {value.shape}\")"
   ]
  },
  {
   "cell_type": "code",
   "execution_count": null,
   "metadata": {},
   "outputs": [],
   "source": [
    "print(len(test_dataset.human_dataset))"
   ]
  }
 ],
 "metadata": {
  "kernelspec": {
   "display_name": "enformer",
   "language": "python",
   "name": "python3"
  },
  "language_info": {
   "codemirror_mode": {
    "name": "ipython",
    "version": 3
   },
   "file_extension": ".py",
   "mimetype": "text/x-python",
   "name": "python",
   "nbconvert_exporter": "python",
   "pygments_lexer": "ipython3",
   "version": "3.8.19"
  }
 },
 "nbformat": 4,
 "nbformat_minor": 2
}
